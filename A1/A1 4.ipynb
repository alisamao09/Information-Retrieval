{
 "cells": [
  {
   "cell_type": "markdown",
   "id": "72a4c20b",
   "metadata": {},
   "source": [
    "1"
   ]
  },
  {
   "cell_type": "code",
   "execution_count": 49,
   "id": "7d76b364",
   "metadata": {},
   "outputs": [
    {
     "name": "stderr",
     "output_type": "stream",
     "text": [
      "/tmp/ipykernel_3896776/863902281.py:14: RuntimeWarning: invalid value encountered in true_divide\n",
      "  cs.append(i.dot(query)/(np.linalg.norm(i)*np.linalg.norm(query)))\n"
     ]
    },
    {
     "data": {
      "text/plain": [
       "['D a m n . W h a t K i n d ?\\n',\n",
       " 'What is the easiest way to learn how to create an app?\\n',\n",
       " 'What are some fun and quick skills to learn? (e.g. learning how to whistle with your fingers)\\n',\n",
       " 'How to convince yourself not to end your own life?\\n',\n",
       " 'How to remove added Yahoo! mails to Gmail via gmailifying ???\\n',\n",
       " 'How much would you have to be paid to urinate hedgehogs?\\n',\n",
       " 'How often do you say yes to things you want to say no to and no to things you want to say yes to?\\n',\n",
       " 'Whats the best way to explain how holidays work to your kids?\\n',\n",
       " 'How much karma do I need to be able to post on r/dankmemes?\\n',\n",
       " 'How many of you have slept with a celebrity? How was it and how did it come to happen?\\n']"
      ]
     },
     "execution_count": 49,
     "metadata": {},
     "output_type": "execute_result"
    }
   ],
   "source": [
    "import numpy as np\n",
    "\n",
    "from sklearn.feature_extraction.text import CountVectorizer\n",
    "def trans(query,doc):\n",
    "    with open(doc, encoding=\"utf-8\") as t:\n",
    "        corpus = t.readlines()\n",
    "    vectorizer = CountVectorizer()\n",
    "    X = vectorizer.fit_transform(corpus)\n",
    "    X=X.toarray()\n",
    "    query = vectorizer.transform([query])\n",
    "    query = query.toarray().reshape(10906,)\n",
    "    cs = []\n",
    "    for i in X:\n",
    "        cs.append(i.dot(query)/(np.linalg.norm(i)*np.linalg.norm(query)))\n",
    "    cs = np.array(cs)\n",
    "    idx = cs.argsort()[:-11:-1]\n",
    "    re = []\n",
    "    for i in range(len(idx)):\n",
    "        re.append(corpus[idx[i]])\n",
    "    return re\n",
    "       \n",
    "    \n",
    "trans('how to learn programming','reddit-questions.10k.f22.txt')\n"
   ]
  },
  {
   "cell_type": "code",
   "execution_count": 50,
   "id": "b53f6fd2",
   "metadata": {},
   "outputs": [
    {
     "name": "stderr",
     "output_type": "stream",
     "text": [
      "/tmp/ipykernel_3896776/863902281.py:14: RuntimeWarning: invalid value encountered in true_divide\n",
      "  cs.append(i.dot(query)/(np.linalg.norm(i)*np.linalg.norm(query)))\n"
     ]
    },
    {
     "data": {
      "text/plain": [
       "['D a m n . W h a t K i n d ?\\n',\n",
       " 'Cat Owners of Reddit, Why does my cat often vomit?\\n',\n",
       " 'What Is the Best Southern/Comfort Food Meal You Can Think Of?\\n',\n",
       " 'What is the best snack food/candy combination no one thinks of?\\n',\n",
       " 'Food Delivery workers of Reddit what are your best and, or worst stories?\\n',\n",
       " 'What is the best way to cheer someone up? My mother’s cat was killed\\n',\n",
       " 'What is best shirt looks good on orange tabby cat from Furry McClaw? Not dress.\\n',\n",
       " \"[Serious] What's the best food to eat to get nice big plump Poops?\\n\",\n",
       " 'Cat people of Reddit, what is the weirdest thing you cat has ever done?\\n',\n",
       " \"People who eat food what was the most digusting (not spoiled) food you've ever eaten?\\n\"]"
      ]
     },
     "execution_count": 50,
     "metadata": {},
     "output_type": "execute_result"
    }
   ],
   "source": [
    "trans('best cat food','reddit-questions.10k.f22.txt')"
   ]
  },
  {
   "cell_type": "code",
   "execution_count": 51,
   "id": "15fa448c",
   "metadata": {},
   "outputs": [
    {
     "name": "stderr",
     "output_type": "stream",
     "text": [
      "/tmp/ipykernel_3896776/863902281.py:14: RuntimeWarning: invalid value encountered in true_divide\n",
      "  cs.append(i.dot(query)/(np.linalg.norm(i)*np.linalg.norm(query)))\n"
     ]
    },
    {
     "data": {
      "text/plain": [
       "['D a m n . W h a t K i n d ?\\n',\n",
       " \"What skills did you actually gain from college that you couldn't gain as easily elsewhere?\\n\",\n",
       " 'College students of Reddit, what is something you were told about college that ended up not being true?\\n',\n",
       " \"Recent college graduates of Reddit, what are some tips you'd give to freshman and upperclassmen on surviving college?\\n\",\n",
       " \"What are some telling signs that a college/college in general is not right for someone, specifically after they've begun at a university?\\n\",\n",
       " 'To people who have been to college and got two degrees, what was it like in college the second time around?\\n',\n",
       " 'People who graduated from college, what are some serious advice you have for people who are about to enter college?\\n',\n",
       " \"What's something I should definitely do once I get into college?\\n\",\n",
       " 'How well did you get along with your college roommate?\\n',\n",
       " 'What intresting skills you can learn on youtube or wikihow ?\\n']"
      ]
     },
     "execution_count": 51,
     "metadata": {},
     "output_type": "execute_result"
    }
   ],
   "source": [
    "trans('college success skills','reddit-questions.10k.f22.txt')"
   ]
  },
  {
   "cell_type": "code",
   "execution_count": 52,
   "id": "bc36b2c3",
   "metadata": {},
   "outputs": [
    {
     "name": "stderr",
     "output_type": "stream",
     "text": [
      "/tmp/ipykernel_3896776/863902281.py:14: RuntimeWarning: invalid value encountered in true_divide\n",
      "  cs.append(i.dot(query)/(np.linalg.norm(i)*np.linalg.norm(query)))\n"
     ]
    },
    {
     "data": {
      "text/plain": [
       "['D a m n . W h a t K i n d ?\\n',\n",
       " \"What's an example of a good song to listen to while looking at the sunset?\\n\",\n",
       " 'Depressed redditors, what kind of music do you listen to for coping?\\n',\n",
       " 'When vacationing, what parts of your country should I make sure to avoid?\\n',\n",
       " 'What song cam you listen to a million times without tiring of it, and why?\\n',\n",
       " 'What should I listen to on an 8 hour road trip?\\n',\n",
       " 'Drug research test object for money, what to watch out for and what kind of researches should you never take part of?\\n',\n",
       " 'What song makes you cry when you listen to it alone late at night?\\n',\n",
       " 'If you had to pick one genre of music to listen to for the rest of your life, what would it be and why?\\n',\n",
       " 'Flight attendants of Reddit; what should we all be doing to make everyone’s life easier when flying?\\n']"
      ]
     },
     "execution_count": 52,
     "metadata": {},
     "output_type": "execute_result"
    }
   ],
   "source": [
    "trans('what kind of song should I listen to when studying','reddit-questions.10k.f22.txt')"
   ]
  },
  {
   "cell_type": "code",
   "execution_count": 53,
   "id": "a80d07d2",
   "metadata": {},
   "outputs": [
    {
     "name": "stderr",
     "output_type": "stream",
     "text": [
      "/tmp/ipykernel_3896776/863902281.py:14: RuntimeWarning: invalid value encountered in true_divide\n",
      "  cs.append(i.dot(query)/(np.linalg.norm(i)*np.linalg.norm(query)))\n"
     ]
    },
    {
     "data": {
      "text/plain": [
       "['D a m n . W h a t K i n d ?\\n',\n",
       " 'What is your favorite episode of your favorite TV show?\\n',\n",
       " 'What is your favorite your least favorite part of growing older?\\n',\n",
       " 'Who is your favorite comedian and your favorite bit they do?\\n',\n",
       " 'Favorite children when did you realize that you were your parents favorite?\\n',\n",
       " 'What is your favorite quote? Why is not your favorite?\\n',\n",
       " 'Reddit, what is your favorite book, and why did it become your favorite one?\\n',\n",
       " 'Humans of Reddit, What are Your Favorite Movies? Also, What Genre is Your Favorite?\\n',\n",
       " 'If your favorite artist released a song with your least favorite artist, would you listen to it?\\n',\n",
       " \"What's your favorite book? Nonfiction. Or fiction. Or both. If you list both, which is your overall favorite?\\n\"]"
      ]
     },
     "execution_count": 53,
     "metadata": {},
     "output_type": "execute_result"
    }
   ],
   "source": [
    "trans('favorite dinner recipes','reddit-questions.10k.f22.txt')"
   ]
  },
  {
   "cell_type": "markdown",
   "id": "7e6d3cdb",
   "metadata": {},
   "source": [
    "1,2,2,2,2,2,2,2,2,2\n",
    "\n",
    "1,2,2,2,1,2,2,1,2,2\n",
    "\n",
    "1,3,2,3,2,2,3,3,2,1\n",
    "\n",
    "1,2,2,1,2,2,1,2,2,1\n",
    "\n",
    "1,2,2,2,2,2,2,2,2,2"
   ]
  },
  {
   "cell_type": "code",
   "execution_count": 54,
   "id": "7056f069",
   "metadata": {},
   "outputs": [
    {
     "name": "stdout",
     "output_type": "stream",
     "text": [
      "9.508989023540915\n",
      "8.744979132134189\n",
      "11.397499548318288\n",
      "8.35175184076891\n",
      "9.508989023540915\n"
     ]
    }
   ],
   "source": [
    "#DCG for 1)\n",
    "print(1+2/math.log(2,2)+2/math.log(3,2)+2/math.log(4,2)+2/math.log(5,2)+2/math.log(6,2)+2/math.log(7,2)+2/math.log(8,2)+2/math.log(9,2)+2/math.log(10,2))\n",
    "\n",
    "#DCG for 2)\n",
    "print(1+2/math.log(2,2)+2/math.log(3,2)+2/math.log(4,2)+1/math.log(5,2)+2/math.log(6,2)+2/math.log(7,2)+1/math.log(8,2)+2/math.log(9,2)+2/math.log(10,2))\n",
    "      \n",
    "#DCG for 3)\n",
    "print(1+3/math.log(2,2)+2/math.log(3,2)+3/math.log(4,2)+2/math.log(5,2)+2/math.log(6,2)+3/math.log(7,2)+3/math.log(8,2)+2/math.log(9,2)+1/math.log(10,2))\n",
    "      \n",
    "#DCG for 4)\n",
    "print(1+2/math.log(2,2)+2/math.log(3,2)+1/math.log(4,2)+2/math.log(5,2)+2/math.log(6,2)+1/math.log(7,2)+2/math.log(8,2)+2/math.log(9,2)+1/math.log(10,2))\n",
    "      \n",
    "#DCG for 5)\n",
    "print(1+2/math.log(2,2)+2/math.log(3,2)+2/math.log(4,2)+2/math.log(5,2)+2/math.log(6,2)+2/math.log(7,2)+2/math.log(8,2)+2/math.log(9,2)+2/math.log(10,2))\n",
    "      "
   ]
  },
  {
   "cell_type": "markdown",
   "id": "68354f87",
   "metadata": {},
   "source": [
    "It did well on retrieving questions(like ?) and short terms with key words (college success skills), and it did poorly on other things such as long sentences with unnecessary ornaments."
   ]
  },
  {
   "cell_type": "code",
   "execution_count": 22,
   "id": "2bb791ba",
   "metadata": {},
   "outputs": [
    {
     "data": {
      "text/plain": [
       "[Text(0, 0, '500'),\n",
       " Text(1, 0, '1000'),\n",
       " Text(2, 0, '5000'),\n",
       " Text(3, 0, '10000')]"
      ]
     },
     "execution_count": 22,
     "metadata": {},
     "output_type": "execute_result"
    },
    {
     "data": {
      "image/png": "[encoded data removed]",
      "text/plain": [
       "<Figure size 432x288 with 1 Axes>"
      ]
     },
     "metadata": {},
     "output_type": "display_data"
    }
   ],
   "source": [
    "import seaborn as sns\n",
    "def trans(doc):\n",
    "    count = 0\n",
    "    li = []\n",
    "    with open(doc, encoding=\"utf-8\") as t:\n",
    "        for line in t:\n",
    "            if count >500:\n",
    "                break\n",
    "            count+=1\n",
    "            line=line.replace('\\n', ',')\n",
    "            li.append(line)\n",
    "        vectorizer = CountVectorizer()\n",
    "        X = vectorizer.fit_transform(li)\n",
    "    return len(vectorizer.vocabulary_.items())\n",
    "\n",
    "def trans1(doc):\n",
    "    count = 0\n",
    "    li = []\n",
    "    with open(doc, encoding=\"utf-8\") as t:\n",
    "        for line in t:\n",
    "            if count >1000:\n",
    "                break\n",
    "            count+=1\n",
    "            line=line.replace('\\n', ',')\n",
    "            li.append(line)\n",
    "        vectorizer = CountVectorizer()\n",
    "        X = vectorizer.fit_transform(li)\n",
    "    return len(vectorizer.vocabulary_.items())\n",
    "    \n",
    "def trans2(doc):\n",
    "    count = 0\n",
    "    li = []\n",
    "    with open(doc, encoding=\"utf-8\") as t:\n",
    "        for line in t:\n",
    "            if count >5000:\n",
    "                break\n",
    "            count+=1\n",
    "            line=line.replace('\\n', ',')\n",
    "            li.append(line)\n",
    "        vectorizer = CountVectorizer()\n",
    "        X = vectorizer.fit_transform(li)\n",
    "    return len(vectorizer.vocabulary_.items())\n",
    "\n",
    "def trans3(doc):\n",
    "    count = 0\n",
    "    li = []\n",
    "    with open(doc, encoding=\"utf-8\") as t:\n",
    "        for line in t:\n",
    "            if count >10000:\n",
    "                break\n",
    "            count+=1\n",
    "            line=line.replace('\\n', ',')\n",
    "            li.append(line)\n",
    "        vectorizer = CountVectorizer()\n",
    "        X = vectorizer.fit_transform(li)\n",
    "    return len(vectorizer.vocabulary_.items())\n",
    "\n",
    "a = trans('reddit-questions.10k.f22.txt')\n",
    "b = trans1('reddit-questions.10k.f22.txt')\n",
    "c = trans2('reddit-questions.10k.f22.txt')\n",
    "d = trans3('reddit-questions.10k.f22.txt')\n",
    "li = [a,b,c,d]\n",
    "sns.set_theme(style=\"darkgrid\")\n",
    "\n",
    "# Plot the responses for different events and regions\n",
    "pp=sns.lineplot(data=li)\n",
    "pp.set_xticks([0,1,2,3])\n",
    "pp.set_xticklabels([\"500\",\"1000\",\"5000\",\"10000\"])"
   ]
  },
  {
   "cell_type": "markdown",
   "id": "cd6b4765",
   "metadata": {},
   "source": [
    "I think this will scale as we get more documents as it performs well on documents with the change of the size. The upper bound can keep increasing slowly and it may converge, but the lower bound may not vary too much based on what we observed above. "
   ]
  },
  {
   "cell_type": "code",
   "execution_count": null,
   "id": "b7dd5efb",
   "metadata": {},
   "outputs": [],
   "source": []
  }
 ],
 "metadata": {
  "kernelspec": {
   "display_name": "Python 3 (ipykernel)",
   "language": "python",
   "name": "python3"
  },
  "language_info": {
   "codemirror_mode": {
    "name": "ipython",
    "version": 3
   },
   "file_extension": ".py",
   "mimetype": "text/x-python",
   "name": "python",
   "nbconvert_exporter": "python",
   "pygments_lexer": "ipython3",
   "version": "3.9.7"
  }
 },
 "nbformat": 4,
 "nbformat_minor": 5
}
