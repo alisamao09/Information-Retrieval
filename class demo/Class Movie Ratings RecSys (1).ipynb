{
 "cells": [
  {
   "cell_type": "code",
   "execution_count": null,
   "id": "36a3d8ed",
   "metadata": {},
   "outputs": [],
   "source": [
    "from surprise import SVD\n",
    "from surprise import BaselineOnly, Dataset, Reader\n",
    "from surprise.model_selection import cross_validate\n",
    "import pandas as pd\n",
    "from surprise.prediction_algorithms.knns import KNNBasic"
   ]
  },
  {
   "cell_type": "code",
   "execution_count": null,
   "id": "806d5c6f",
   "metadata": {},
   "outputs": [],
   "source": [
    "df = pd.read_csv('movie-ratings.clean.csv')\n",
    "df.rating.mean()"
   ]
  },
  {
   "cell_type": "code",
   "execution_count": null,
   "id": "847274c3",
   "metadata": {},
   "outputs": [],
   "source": [
    "reader = Reader(rating_scale=(1, 5))\n",
    "# The columns must correspond to user id, item id and ratings (in that order).\n",
    "data = Dataset.load_from_df(df[['user', 'movie', 'rating']], reader)"
   ]
  },
  {
   "cell_type": "code",
   "execution_count": null,
   "id": "906dbf77",
   "metadata": {},
   "outputs": [],
   "source": [
    "# Grab the \"full\" data just to get a sense of what we're working with.\n",
    "# NOTE: we don't want to work with this dataset directly for measuring performance\n",
    "trainset = data.build_full_trainset()\n",
    "print('Dataset has %d items, %d users, and %d ratings' % \\\n",
    "      (trainset.n_items, trainset.n_users, trainset.n_ratings))"
   ]
  },
  {
   "cell_type": "code",
   "execution_count": null,
   "id": "80968e03",
   "metadata": {},
   "outputs": [],
   "source": [
    "item_item_sim_options = {'name': 'pearson',\n",
    "                         'user_based': False}  # <-- turns into item-item\n",
    "user_user_sim_options = {'name': 'pearson',\n",
    "                         'user_based': True}\n",
    "\n",
    "# This baseline uses the mean rating + bias for the user + bias for the item\n",
    "user_item_biases_baseline = BaselineOnly()\n",
    "\n",
    "# The two options we discussed in class\n",
    "user_user = KNNBasic(k=2, im_options=user_user_sim_options)\n",
    "item_item = KNNBasic(k=2, sim_options=item_item_sim_options)"
   ]
  },
  {
   "cell_type": "code",
   "execution_count": null,
   "id": "99998d8e",
   "metadata": {},
   "outputs": [],
   "source": [
    "cv = cross_validate(user_user, data, measures=['RMSE', 'MAE'], cv=5, verbose=True)"
   ]
  },
  {
   "cell_type": "code",
   "execution_count": null,
   "id": "c7e9f80d",
   "metadata": {},
   "outputs": [],
   "source": [
    "cv = cross_validate(item_item, data, measures=['RMSE', 'MAE'], cv=5, verbose=True)"
   ]
  },
  {
   "cell_type": "code",
   "execution_count": null,
   "id": "bc9ba114",
   "metadata": {},
   "outputs": [],
   "source": [
    "# What if we used cosine instead?\n",
    "cosine_item_item_sim_options = {'name': 'cosine',\n",
    "                         'user_based': False}  # <-- turns into item-item\n",
    "cosine_user_user_sim_options = {'name': 'cosine',\n",
    "                         'user_based': True}\n",
    "# The two options we discussed in class\n",
    "cosine_user_user = KNNBasic(k=2, sim_options=cosine_item_item_sim_options)\n",
    "cosine_item_item = KNNBasic(k=2, sim_options=cosine_item_item_sim_options)"
   ]
  },
  {
   "cell_type": "code",
   "execution_count": null,
   "id": "b59da2fc",
   "metadata": {},
   "outputs": [],
   "source": [
    "cv = cross_validate(cosine_user_user, data, measures=['RMSE', 'MAE'], cv=5, verbose=True)"
   ]
  },
  {
   "cell_type": "code",
   "execution_count": null,
   "id": "b3351347",
   "metadata": {},
   "outputs": [],
   "source": [
    "cv = cross_validate(cosine_item_item, data, measures=['RMSE', 'MAE'], cv=5, verbose=True)"
   ]
  },
  {
   "cell_type": "markdown",
   "id": "10a14ea8",
   "metadata": {},
   "source": [
    "# Try learning with user factors"
   ]
  },
  {
   "cell_type": "code",
   "execution_count": null,
   "id": "7d0f65e2",
   "metadata": {},
   "outputs": [],
   "source": [
    "user_factors = SVD(n_factors=20)"
   ]
  },
  {
   "cell_type": "code",
   "execution_count": null,
   "id": "62e23b09",
   "metadata": {},
   "outputs": [],
   "source": [
    "cv = cross_validate(user_factors, data, measures=['RMSE', 'MAE'], cv=5, verbose=True)"
   ]
  }
 ],
 "metadata": {
  "kernelspec": {
   "display_name": "Python 3 (ipykernel)",
   "language": "python",
   "name": "python3"
  },
  "language_info": {
   "codemirror_mode": {
    "name": "ipython",
    "version": 3
   },
   "file_extension": ".py",
   "mimetype": "text/x-python",
   "name": "python",
   "nbconvert_exporter": "python",
   "pygments_lexer": "ipython3",
   "version": "3.9.12"
  }
 },
 "nbformat": 4,
 "nbformat_minor": 5
}
